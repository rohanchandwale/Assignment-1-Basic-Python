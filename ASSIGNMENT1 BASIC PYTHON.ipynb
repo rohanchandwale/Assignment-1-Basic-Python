{
 "cells": [
  {
   "cell_type": "markdown",
   "id": "678b4328",
   "metadata": {},
   "source": [
    "** What is 7 to the power of 4?**"
   ]
  },
  {
   "cell_type": "code",
   "execution_count": 10,
   "id": "1438aec4",
   "metadata": {},
   "outputs": [
    {
     "data": {
      "text/plain": [
       "2401"
      ]
     },
     "execution_count": 10,
     "metadata": {},
     "output_type": "execute_result"
    }
   ],
   "source": [
    "7**4"
   ]
  },
  {
   "cell_type": "markdown",
   "id": "0507d6e0",
   "metadata": {},
   "source": [
    "** Split this string:**\n",
    "\n",
    "s = \"Hi there Yogesh!\"\n",
    "*into a list. *"
   ]
  },
  {
   "cell_type": "code",
   "execution_count": 8,
   "id": "86268755",
   "metadata": {},
   "outputs": [],
   "source": [
    "s= 'Hi there Yogesh'"
   ]
  },
  {
   "cell_type": "markdown",
   "id": "da1ee2ee",
   "metadata": {},
   "source": [
    "** Given the variables:**\n",
    "\n",
    "planet = \"Earth\"\n",
    "diameter = 12742\n",
    "** Use .format() to print the following string: **\n",
    "\n",
    "The diameter of Earth is 12742 kilometers."
   ]
  },
  {
   "cell_type": "code",
   "execution_count": 11,
   "id": "4f0764d7",
   "metadata": {},
   "outputs": [],
   "source": [
    "planet = \"Earth\"\n",
    "diameter = 12742"
   ]
  },
  {
   "cell_type": "code",
   "execution_count": 12,
   "id": "5778c031",
   "metadata": {},
   "outputs": [
    {
     "data": {
      "text/plain": [
       "'Earth'"
      ]
     },
     "execution_count": 12,
     "metadata": {},
     "output_type": "execute_result"
    }
   ],
   "source": [
    "planet"
   ]
  },
  {
   "cell_type": "code",
   "execution_count": 13,
   "id": "5b2072ee",
   "metadata": {},
   "outputs": [
    {
     "data": {
      "text/plain": [
       "12742"
      ]
     },
     "execution_count": 13,
     "metadata": {},
     "output_type": "execute_result"
    }
   ],
   "source": [
    "diameter"
   ]
  },
  {
   "cell_type": "code",
   "execution_count": 14,
   "id": "4992bbe6",
   "metadata": {},
   "outputs": [
    {
     "data": {
      "text/plain": [
       "'the diameter of Earth is 12742 kilometers'"
      ]
     },
     "execution_count": 14,
     "metadata": {},
     "output_type": "execute_result"
    }
   ],
   "source": [
    "'the diameter of {} is {} kilometers' .format(planet,diameter)"
   ]
  },
  {
   "cell_type": "markdown",
   "id": "770f9cac",
   "metadata": {},
   "source": [
    "Given this nested list, use indexing to grab the word \"hello\" **\n",
    "\n",
    "lst = [1,2,[3,4],[5,[100,200,['hello']],23,11],1,7]\n"
   ]
  },
  {
   "cell_type": "code",
   "execution_count": 15,
   "id": "00a4c378",
   "metadata": {},
   "outputs": [],
   "source": [
    "list = [1,2,[3,4],[5,[100,200,['hello']],23,11],1,7]"
   ]
  },
  {
   "cell_type": "code",
   "execution_count": 17,
   "id": "1230deb6",
   "metadata": {},
   "outputs": [
    {
     "data": {
      "text/plain": [
       "'hello'"
      ]
     },
     "execution_count": 17,
     "metadata": {},
     "output_type": "execute_result"
    }
   ],
   "source": [
    "list [3][1][2][0]"
   ]
  },
  {
   "cell_type": "code",
   "execution_count": null,
   "id": "39aa06cc",
   "metadata": {},
   "outputs": [],
   "source": [
    "** Given this nested dictionary grab the word \"hello\". Be prepared, this will be annoying/tricky **\n",
    "\n",
    "d = {'k1':[1,2,3,{'tricky':['oh','man','inception',{'target':[1,2,3,'hello']}]}]}"
   ]
  },
  {
   "cell_type": "code",
   "execution_count": 18,
   "id": "7f5c5754",
   "metadata": {},
   "outputs": [],
   "source": [
    "d = {'k1':[1,2,3,{'tricky':['oh','man','inception',{'target':[1,2,3,'hello']}]}]}"
   ]
  },
  {
   "cell_type": "code",
   "execution_count": 23,
   "id": "66fbdf1f",
   "metadata": {},
   "outputs": [
    {
     "data": {
      "text/plain": [
       "'hello'"
      ]
     },
     "execution_count": 23,
     "metadata": {},
     "output_type": "execute_result"
    }
   ],
   "source": [
    "d['k1'][3]['tricky'][3]['target'][3]"
   ]
  },
  {
   "cell_type": "markdown",
   "id": "f7eaa1cc",
   "metadata": {},
   "source": [
    "** What is the main difference between a tuple and a list? **\n",
    "\n"
   ]
  },
  {
   "cell_type": "code",
   "execution_count": null,
   "id": "99d566e9",
   "metadata": {},
   "outputs": [],
   "source": [
    "# Tuple is Immutable"
   ]
  },
  {
   "cell_type": "code",
   "execution_count": null,
   "id": "8f6533ce",
   "metadata": {},
   "outputs": [],
   "source": [
    "** Create a function that grabs the email website domain from a string in the form: **\n",
    "    user@domain.com"
   ]
  },
  {
   "cell_type": "code",
   "execution_count": 1,
   "id": "31736c90",
   "metadata": {},
   "outputs": [],
   "source": [
    "def find_domain(e):\n",
    "    return e.split('@')[1]"
   ]
  },
  {
   "cell_type": "code",
   "execution_count": 2,
   "id": "c9bc4369",
   "metadata": {},
   "outputs": [
    {
     "data": {
      "text/plain": [
       "'hotmail.com'"
      ]
     },
     "execution_count": 2,
     "metadata": {},
     "output_type": "execute_result"
    }
   ],
   "source": [
    "find_domain('xyz@hotmail.com')"
   ]
  },
  {
   "cell_type": "markdown",
   "id": "a27b1e7f",
   "metadata": {},
   "source": [
    "** Create a basic function that returns True if the word 'dog' is contained in the input string. Don't worry about edge cases like a punctuation being attached to the word dog, but do account for capitalization. **"
   ]
  },
  {
   "cell_type": "code",
   "execution_count": 13,
   "id": "28302d56",
   "metadata": {},
   "outputs": [],
   "source": [
    "def find_dog(s):\n",
    "    return 'dog' in s.lower().split()"
   ]
  },
  {
   "cell_type": "code",
   "execution_count": 14,
   "id": "b6987856",
   "metadata": {},
   "outputs": [
    {
     "data": {
      "text/plain": [
       "True"
      ]
     },
     "execution_count": 14,
     "metadata": {},
     "output_type": "execute_result"
    }
   ],
   "source": [
    "find_dog('This dog runs faster than that dog')"
   ]
  },
  {
   "cell_type": "code",
   "execution_count": null,
   "id": "7eb94541",
   "metadata": {},
   "outputs": [],
   "source": [
    "** Create a function that counts the number of times the word \"dog\" occurs in a string. Again ignore edge cases. **"
   ]
  },
  {
   "cell_type": "code",
   "execution_count": 16,
   "id": "1c016ebc",
   "metadata": {},
   "outputs": [],
   "source": [
    "def dog_count(s1):\n",
    "    c=0\n",
    "    for w in s1.lower().split():\n",
    "        if w=='dog':\n",
    "            c+=1\n",
    "    return c"
   ]
  },
  {
   "cell_type": "markdown",
   "id": "0da05cfd",
   "metadata": {},
   "source": [
    "dog_count('this dog runs faster than that dog')"
   ]
  },
  {
   "cell_type": "code",
   "execution_count": null,
   "id": "2fd554bb",
   "metadata": {},
   "outputs": [],
   "source": [
    "** Use lambda expressions and the filter() function to filter out words from a list that don't start with the letter 's'. For example:**"
   ]
  },
  {
   "cell_type": "code",
   "execution_count": 19,
   "id": "582595c9",
   "metadata": {},
   "outputs": [],
   "source": [
    "seq = ['soup','dog','salad','cat','great']"
   ]
  },
  {
   "cell_type": "code",
   "execution_count": 20,
   "id": "04063b31",
   "metadata": {},
   "outputs": [
    {
     "data": {
      "text/plain": [
       "['soup', 'dog', 'salad', 'cat', 'great']"
      ]
     },
     "execution_count": 20,
     "metadata": {},
     "output_type": "execute_result"
    }
   ],
   "source": [
    "seq"
   ]
  },
  {
   "cell_type": "code",
   "execution_count": 21,
   "id": "c0745a8d",
   "metadata": {},
   "outputs": [
    {
     "data": {
      "text/plain": [
       "list"
      ]
     },
     "execution_count": 21,
     "metadata": {},
     "output_type": "execute_result"
    }
   ],
   "source": [
    "type(seq)"
   ]
  },
  {
   "cell_type": "code",
   "execution_count": 22,
   "id": "d61eba4c",
   "metadata": {},
   "outputs": [
    {
     "data": {
      "text/plain": [
       "['dog', 'cat', 'great']"
      ]
     },
     "execution_count": 22,
     "metadata": {},
     "output_type": "execute_result"
    }
   ],
   "source": [
    "list (filter(lambda x:x[0]!='s',seq))"
   ]
  },
  {
   "cell_type": "markdown",
   "id": "64c31673",
   "metadata": {},
   "source": [
    "*You are driving a little too fast, and a police officer stops you. Write a function to return one of 3 possible results: \"No ticket\", \"Small ticket\", or \"Big Ticket\". If your speed is 60 or less, the result is \"No Ticket\". If speed is between 61 and 80 inclusive, the result is \"Small Ticket\". If speed is 81 or more, the result is \"Big Ticket\". Unless it is your birthday (encoded as a boolean value in the parameters of the function) -- on your birthday, your speed can be 5 higher in all cases. *"
   ]
  },
  {
   "cell_type": "code",
   "execution_count": 23,
   "id": "ddb17091",
   "metadata": {},
   "outputs": [],
   "source": [
    "def catch_speed(s,b):\n",
    "    if b:\n",
    "        s_new=s-5\n",
    "    else:\n",
    "        s_new=s\n",
    "    if s_new>80:\n",
    "        return 'big ticket'\n",
    "    elif s_new>60:\n",
    "        return 'small ticket'\n",
    "    else:\n",
    "        return 'no ticket'"
   ]
  },
  {
   "cell_type": "code",
   "execution_count": 25,
   "id": "759fbdb2",
   "metadata": {},
   "outputs": [
    {
     "data": {
      "text/plain": [
       "'small ticket'"
      ]
     },
     "execution_count": 25,
     "metadata": {},
     "output_type": "execute_result"
    }
   ],
   "source": [
    "catch_speed(81,True)"
   ]
  },
  {
   "cell_type": "code",
   "execution_count": 27,
   "id": "1f64aad0",
   "metadata": {},
   "outputs": [
    {
     "data": {
      "text/plain": [
       "'big ticket'"
      ]
     },
     "execution_count": 27,
     "metadata": {},
     "output_type": "execute_result"
    }
   ],
   "source": [
    "catch_speed(81,False)"
   ]
  },
  {
   "cell_type": "markdown",
   "id": "fd6b4378",
   "metadata": {},
   "source": [
    "Given a string print number num by extracting all the\n",
    "digits from the string as in string\n",
    "Print negative number if the first character in \n",
    "string is '-'\n",
    "eg.\n",
    "-123abcd should return -123,abcd456-->456,fdhfh78dsd89--->7889,-56dssd78-->-5678"
   ]
  },
  {
   "cell_type": "code",
   "execution_count": 5,
   "id": "bc709506",
   "metadata": {},
   "outputs": [
    {
     "name": "stdout",
     "output_type": "stream",
     "text": [
      "enter the input string:5664-98bjbhcljhc-5644wdfd\n",
      "5664985644\n"
     ]
    }
   ],
   "source": [
    "s=input('enter the input string:')\n",
    "num=''\n",
    "data =[0,1,2,3,4,5,6,7,8,9]\n",
    "if s[0]== '-':\n",
    "    num=num+s[0]\n",
    "for c in s:\n",
    "    if c in str(data):\n",
    "        num=num+c\n",
    "print (num)"
   ]
  },
  {
   "cell_type": "markdown",
   "id": "e4f60bfc",
   "metadata": {},
   "source": [
    "WAP to check whether a number is palindrome or not on following conditions.\n",
    "1. take input number\n",
    "2. add number and its reverse\n",
    "3. check that number is palindrome or not,if not then sum and its reverse"
   ]
  },
  {
   "cell_type": "code",
   "execution_count": 1,
   "id": "98103384",
   "metadata": {},
   "outputs": [
    {
     "name": "stdout",
     "output_type": "stream",
     "text": [
      "enter the number181\n",
      "Number is: 362\n",
      "reverse is 263\n",
      "Number is: 625\n",
      "reverse is 526\n",
      "Number is: 1151\n",
      "reverse is 1511\n",
      "Number is: 2662\n",
      "reverse is 2662\n",
      "palindrome is: 2662\n"
     ]
    }
   ],
   "source": [
    "num1= input('enter the number')\n",
    "num2= int(num1[::-1])\n",
    "num3= str(int(num1)+num2)\n",
    "print('Number is:',num3)\n",
    "print('reverse is',num3[::-1])\n",
    "while num3!=num3[::-1]:\n",
    "    num3=str(int(num3)+int(num3[::-1]))\n",
    "    print(\"Number is:\",num3)\n",
    "    print('reverse is',num3[::-1])\n",
    "print('palindrome is:',num3)"
   ]
  },
  {
   "cell_type": "markdown",
   "id": "2652a071",
   "metadata": {},
   "source": [
    "Write a python function to find and display the five \n",
    "digit number in which the first digit is two more than \n",
    "the second,the second digit is two more than the third,\n",
    "the fourth digit is two less than the third, and the \n",
    "last digit is two more than\n",
    "the fourth.The sum of the third,fourth and fifth digits\n",
    "equals the first.The sum of all the digits is 19"
   ]
  },
  {
   "cell_type": "code",
   "execution_count": 12,
   "id": "9d0057a2",
   "metadata": {},
   "outputs": [],
   "source": [
    "def fun1():\n",
    "    for a in range(0,10):\n",
    "        b=a-2\n",
    "        c=b-2\n",
    "        d=c-2\n",
    "        if c+d+c==a and a+b+c+d+c==19:\n",
    "            print(str(a)+str(b)+str(c)+str(d)+str(c))"
   ]
  },
  {
   "cell_type": "code",
   "execution_count": 13,
   "id": "c0eba43a",
   "metadata": {},
   "outputs": [
    {
     "name": "stdout",
     "output_type": "stream",
     "text": [
      "75313\n"
     ]
    }
   ],
   "source": [
    "fun1()"
   ]
  },
  {
   "cell_type": "code",
   "execution_count": null,
   "id": "be08e3b8",
   "metadata": {},
   "outputs": [],
   "source": []
  }
 ],
 "metadata": {
  "kernelspec": {
   "display_name": "Python 3 (ipykernel)",
   "language": "python",
   "name": "python3"
  },
  "language_info": {
   "codemirror_mode": {
    "name": "ipython",
    "version": 3
   },
   "file_extension": ".py",
   "mimetype": "text/x-python",
   "name": "python",
   "nbconvert_exporter": "python",
   "pygments_lexer": "ipython3",
   "version": "3.9.13"
  }
 },
 "nbformat": 4,
 "nbformat_minor": 5
}
